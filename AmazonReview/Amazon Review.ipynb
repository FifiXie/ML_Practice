{
 "cells": [
  {
   "cell_type": "code",
   "execution_count": 1,
   "metadata": {},
   "outputs": [],
   "source": [
    "import numpy as np\n",
    "import pandas as pd\n",
    "import pickle\n",
    "import matplotlib.pyplot as plt\n",
    "from sklearn.externals import joblib\n",
    "from my_measures import BinaryClassificationPerformance\n",
    "%matplotlib inline"
   ]
  },
  {
   "cell_type": "markdown",
   "metadata": {},
   "source": [
    "### Read Original Data"
   ]
  },
  {
   "cell_type": "code",
   "execution_count": 2,
   "metadata": {},
   "outputs": [
    {
     "name": "stdout",
     "output_type": "stream",
     "text": [
      "(455000, 13)\n"
     ]
    }
   ],
   "source": [
    "amazon = pd.read_csv('/Users/xyche/Documents/Parsons_Grad/ML_Practice/AmazonReview/Amazon.csv')\n",
    "print(amazon.shape)"
   ]
  },
  {
   "cell_type": "markdown",
   "metadata": {},
   "source": [
    "#### Spliting into random sets"
   ]
  },
  {
   "cell_type": "code",
   "execution_count": 5,
   "metadata": {},
   "outputs": [],
   "source": [
    "from sklearn.model_selection import train_test_split\n",
    "\n",
    "raw_data_train, raw_data_test, y_labeled, y_labeled = train_test_split(amazon, amazon['helpful'], test_size= 0.2, random_state=27)"
   ]
  },
  {
   "cell_type": "code",
   "execution_count": 6,
   "metadata": {},
   "outputs": [],
   "source": [
    "raw_data_train.to_csv('/Users/xyche/Documents/Parsons_Grad/ML_Practice/AmazonReview/raw_data_train.csv', index=False)\n",
    "raw_data_test.to_csv('/Users/xyche/Documents/Parsons_Grad/ML_Practice/AmazonReview/raw_data_test.csv', index=False)\n",
    "y_labeled.to_csv('/Users/xyche/Documents/Parsons_Grad/ML_Practice/AmazonReview/y_labeled.csv')\n",
    "y_labeled.to_csv('/Users/xyche/Documents/Parsons_Grad/ML_Practice/AmazonReview/y_labeled.csv')"
   ]
  },
  {
   "cell_type": "markdown",
   "metadata": {},
   "source": [
    "#### Teat Training Data"
   ]
  },
  {
   "cell_type": "code",
   "execution_count": 7,
   "metadata": {},
   "outputs": [
    {
     "name": "stdout",
     "output_type": "stream",
     "text": [
      "(364000, 13)\n"
     ]
    },
    {
     "data": {
      "text/plain": [
       "pandas.core.series.Series"
      ]
     },
     "execution_count": 7,
     "metadata": {},
     "output_type": "execute_result"
    }
   ],
   "source": [
    "amazonTrain = pd.read_csv('/Users/xyche/Documents/Parsons_Grad/ML_Practice/AmazonReview/raw_data_train.csv')\n",
    "print(amazonTrain.shape)\n",
    "type(amazonTrain.Text)"
   ]
  },
  {
   "cell_type": "code",
   "execution_count": 8,
   "metadata": {},
   "outputs": [
    {
     "data": {
      "text/plain": [
       "str"
      ]
     },
     "execution_count": 8,
     "metadata": {},
     "output_type": "execute_result"
    }
   ],
   "source": [
    "s = pd.Series([amazon])\n",
    "raw = s.to_string()\n",
    "type(raw)"
   ]
  },
  {
   "cell_type": "markdown",
   "metadata": {},
   "source": [
    "#### Taking Summaries and Comments from the documents as key features to do word analysis\n",
    "#### Taking out stopwords, case differences, and punctuation\n",
    "#### using hash vectorizer and tfidf tranformation to convert words into matrix"
   ]
  },
  {
   "cell_type": "code",
   "execution_count": 9,
   "metadata": {},
   "outputs": [
    {
     "name": "stdout",
     "output_type": "stream",
     "text": [
      "(364000, 34)\n"
     ]
    }
   ],
   "source": [
    "from sklearn.feature_extraction.text import HashingVectorizer\n",
    "hv = HashingVectorizer(strip_accents='unicode', lowercase=True, stop_words='english', token_pattern='(?u)\\b\\w\\w+\\b', n_features= 2*17, analyzer='word', norm='l1', non_negative=False)\n",
    "X_hv = hv.fit_transform(amazonTrain.Text)\n",
    "print(X_hv.shape)"
   ]
  },
  {
   "cell_type": "code",
   "execution_count": 10,
   "metadata": {},
   "outputs": [
    {
     "data": {
      "text/plain": [
       "['hv.pkl']"
      ]
     },
     "execution_count": 10,
     "metadata": {},
     "output_type": "execute_result"
    }
   ],
   "source": [
    "joblib.dump(hv, 'hv.pkl')"
   ]
  },
  {
   "cell_type": "code",
   "execution_count": 11,
   "metadata": {},
   "outputs": [
    {
     "data": {
      "text/plain": [
       "['transformer.pkl']"
      ]
     },
     "execution_count": 11,
     "metadata": {},
     "output_type": "execute_result"
    }
   ],
   "source": [
    "from sklearn.feature_extraction.text import TfidfTransformer\n",
    "transformer = TfidfTransformer(norm='l1', sublinear_tf=True)\n",
    "X_tfidf = transformer.fit_transform(X_hv)\n",
    "\n",
    "joblib.dump(transformer, 'transformer.pkl') # pickle"
   ]
  },
  {
   "cell_type": "code",
   "execution_count": 12,
   "metadata": {},
   "outputs": [
    {
     "name": "stdout",
     "output_type": "stream",
     "text": [
      "(364000, 34)\n"
     ]
    }
   ],
   "source": [
    "from sklearn.feature_extraction.text import HashingVectorizer\n",
    "corpusSum = amazonTrain.Summary.values.astype('U')\n",
    "sums = HashingVectorizer(strip_accents='unicode', lowercase=True, stop_words='english', token_pattern='(?u)\\b\\w\\w+\\b', n_features= 2*17, analyzer='word', norm=None, non_negative=False)\n",
    "X_sums = sums.fit_transform(corpusSum)\n",
    "print(X_sums.shape)"
   ]
  },
  {
   "cell_type": "code",
   "execution_count": 13,
   "metadata": {},
   "outputs": [
    {
     "data": {
      "text/plain": [
       "['hvsum.pkl']"
      ]
     },
     "execution_count": 13,
     "metadata": {},
     "output_type": "execute_result"
    }
   ],
   "source": [
    "joblib.dump(sums, 'hvsum.pkl')"
   ]
  },
  {
   "cell_type": "code",
   "execution_count": 14,
   "metadata": {},
   "outputs": [
    {
     "data": {
      "text/plain": [
       "['transformer_sum.pkl']"
      ]
     },
     "execution_count": 14,
     "metadata": {},
     "output_type": "execute_result"
    }
   ],
   "source": [
    "from sklearn.feature_extraction.text import TfidfTransformer\n",
    "transformer = TfidfTransformer(norm='l1', sublinear_tf=True)\n",
    "X_tfidf_sum = transformer.fit_transform(X_sums)\n",
    "\n",
    "joblib.dump(transformer, 'transformer_sum.pkl') # pickle"
   ]
  },
  {
   "cell_type": "markdown",
   "metadata": {},
   "source": [
    "#### Also considering the length of each summary and comment to eveluate the helpfulness"
   ]
  },
  {
   "cell_type": "code",
   "execution_count": 16,
   "metadata": {},
   "outputs": [],
   "source": [
    "amazonTrain['reviewLen'] = amazonTrain['Text'].str.len()\n",
    "amazonTrain['sumLen'] = amazonTrain['Summary'].str.len().replace(np.nan,0)\n",
    "\n",
    "\n",
    "X_length_features = amazonTrain[[\"reviewLen\",\"sumLen\"]]"
   ]
  },
  {
   "cell_type": "markdown",
   "metadata": {},
   "source": [
    "#### Combining feature matrix"
   ]
  },
  {
   "cell_type": "code",
   "execution_count": 18,
   "metadata": {},
   "outputs": [
    {
     "name": "stdout",
     "output_type": "stream",
     "text": [
      "(364000, 68)\n"
     ]
    }
   ],
   "source": [
    "#Combine words matrix\n",
    "from scipy.sparse import csr_matrix, hstack\n",
    "X_combined = hstack([X_tfidf,X_tfidf_sum])\n",
    "X_matrix = csr_matrix(X_combined) # convert to sparse matrix\n",
    "print(X_matrix.shape)"
   ]
  },
  {
   "cell_type": "code",
   "execution_count": 19,
   "metadata": {},
   "outputs": [
    {
     "name": "stdout",
     "output_type": "stream",
     "text": [
      "(364000, 70)\n"
     ]
    }
   ],
   "source": [
    "from scipy.sparse import csr_matrix, hstack\n",
    "X_length_features_csr = csr_matrix(X_length_features)\n",
    "X_combined = hstack([X_matrix, X_length_features_csr])\n",
    "X_feature = csr_matrix(X_combined) \n",
    "print(X_feature.shape)"
   ]
  },
  {
   "cell_type": "code",
   "execution_count": 20,
   "metadata": {},
   "outputs": [
    {
     "name": "stdout",
     "output_type": "stream",
     "text": [
      "(364000, 70)\n"
     ]
    },
    {
     "data": {
      "text/plain": [
       "['sc.pkl']"
      ]
     },
     "execution_count": 20,
     "metadata": {},
     "output_type": "execute_result"
    }
   ],
   "source": [
    "from sklearn.preprocessing import StandardScaler\n",
    "sc = StandardScaler(with_mean=False)\n",
    "X = sc.fit_transform(X_feature)\n",
    "print(X.shape)\n",
    "\n",
    "joblib.dump(sc, 'sc.pkl')"
   ]
  },
  {
   "cell_type": "code",
   "execution_count": 21,
   "metadata": {},
   "outputs": [
    {
     "name": "stdout",
     "output_type": "stream",
     "text": [
      "<class 'numpy.ndarray'>\n"
     ]
    }
   ],
   "source": [
    "y = amazonTrain['helpful'].values\n",
    "print(type(y))"
   ]
  },
  {
   "cell_type": "markdown",
   "metadata": {},
   "source": [
    "### Testing different modules on the training set"
   ]
  },
  {
   "cell_type": "code",
   "execution_count": 22,
   "metadata": {},
   "outputs": [],
   "source": [
    "from my_measures import BinaryClassificationPerformance"
   ]
  },
  {
   "cell_type": "markdown",
   "metadata": {},
   "source": [
    "#### nbs"
   ]
  },
  {
   "cell_type": "code",
   "execution_count": 23,
   "metadata": {},
   "outputs": [
    {
     "name": "stdout",
     "output_type": "stream",
     "text": [
      "{'Pos': 26581, 'Neg': 337419, 'TP': 30, 'TN': 337360, 'FP': 59, 'FN': 26551, 'Accuracy': 0.9268956043956044, 'Precision': 0.33707865168539325, 'Recall': 0.001128625710093676, 'desc': 'nbs'}\n"
     ]
    }
   ],
   "source": [
    "from sklearn.naive_bayes import MultinomialNB\n",
    "nbs = MultinomialNB()\n",
    "nbs.fit(X, y)\n",
    "joblib.dump(nbs, 'nbs.pkl') # pickle\n",
    "\n",
    "nbs_performance = BinaryClassificationPerformance(nbs.predict(X), y, 'nbs')\n",
    "nbs_performance.compute_measures()\n",
    "print(nbs_performance.performance_measures)"
   ]
  },
  {
   "cell_type": "markdown",
   "metadata": {},
   "source": [
    "#### ols"
   ]
  },
  {
   "cell_type": "code",
   "execution_count": 24,
   "metadata": {},
   "outputs": [
    {
     "name": "stderr",
     "output_type": "stream",
     "text": [
      "C:\\Users\\xyche\\Anaconda3\\lib\\site-packages\\sklearn\\linear_model\\stochastic_gradient.py:166: FutureWarning: max_iter and tol parameters have been added in SGDClassifier in 0.19. If both are left unset, they default to max_iter=5 and tol=None. If tol is not None, max_iter defaults to max_iter=1000. From 0.21, default max_iter will be 1000, and default tol will be 1e-3.\n",
      "  FutureWarning)\n"
     ]
    },
    {
     "name": "stdout",
     "output_type": "stream",
     "text": [
      "{'Pos': 26581, 'Neg': 337419, 'TP': 41, 'TN': 337343, 'FP': 76, 'FN': 26540, 'Accuracy': 0.9268791208791208, 'Precision': 0.3504273504273504, 'Recall': 0.0015424551371280239, 'desc': 'ols'}\n"
     ]
    }
   ],
   "source": [
    "from sklearn import linear_model\n",
    "ols = linear_model.SGDClassifier(loss=\"squared_loss\")\n",
    "ols.fit(X, y)\n",
    "joblib.dump(ols, 'ols.pkl') # pickle\n",
    "\n",
    "ols_performance = BinaryClassificationPerformance(ols.predict(X), y, 'ols')\n",
    "ols_performance.compute_measures()\n",
    "print(ols_performance.performance_measures)"
   ]
  },
  {
   "cell_type": "markdown",
   "metadata": {},
   "source": [
    "#### randomForest"
   ]
  },
  {
   "cell_type": "code",
   "execution_count": 25,
   "metadata": {},
   "outputs": [
    {
     "name": "stdout",
     "output_type": "stream",
     "text": [
      "{'Pos': 26581, 'Neg': 337419, 'TP': 0, 'TN': 337419, 'FP': 0, 'FN': 26581, 'Accuracy': 0.9269752747252747, 'Precision': nan, 'Recall': 0.0, 'desc': 'rf'}\n"
     ]
    },
    {
     "name": "stderr",
     "output_type": "stream",
     "text": [
      "C:\\Users\\xyche\\Documents\\Parsons_Grad\\ML_Practice\\AmazonReview\\my_measures.py:25: RuntimeWarning: invalid value encountered in longlong_scalars\n",
      "  self.performance_measures['Precision'] = self.performance_measures['TP'] / (self.performance_measures['TP'] + self.performance_measures['FP'])\n"
     ]
    }
   ],
   "source": [
    "from sklearn.ensemble import RandomForestClassifier\n",
    "rf=RandomForestClassifier(n_estimators=100, criterion='gini', max_depth=7, min_samples_split=9, min_samples_leaf=1, min_weight_fraction_leaf=0.5, max_features='auto', max_leaf_nodes=None, min_impurity_decrease=0.1, min_impurity_split=None, bootstrap=True, oob_score=False, n_jobs=None, random_state=27, verbose=0, warm_start=False, class_weight=None)\n",
    "rf.fit(X, y)\n",
    "joblib.dump(rf, 'rf.pkl') # pickle\n",
    "\n",
    "rf_performance = BinaryClassificationPerformance(rf.predict(X), y, 'rf')\n",
    "rf_performance.compute_measures()\n",
    "print(rf_performance.performance_measures)"
   ]
  },
  {
   "cell_type": "markdown",
   "metadata": {},
   "source": [
    "#### rdg"
   ]
  },
  {
   "cell_type": "code",
   "execution_count": 26,
   "metadata": {},
   "outputs": [
    {
     "name": "stdout",
     "output_type": "stream",
     "text": [
      "{'Pos': 26581, 'Neg': 337419, 'TP': 39, 'TN': 337350, 'FP': 69, 'FN': 26542, 'Accuracy': 0.9268928571428572, 'Precision': 0.3611111111111111, 'Recall': 0.0014672134231217787, 'desc': 'rdg'}\n"
     ]
    }
   ],
   "source": [
    "from sklearn import linear_model\n",
    "rdg = linear_model.RidgeClassifier(alpha=5.0)\n",
    "rdg.fit(X, y)\n",
    "joblib.dump(rdg, 'rdg.pkl') # pickle\n",
    "\n",
    "rdg_performance = BinaryClassificationPerformance(rdg.predict(X), y, 'rdg')\n",
    "rdg_performance.compute_measures()\n",
    "print(rdg_performance.performance_measures)"
   ]
  },
  {
   "cell_type": "markdown",
   "metadata": {},
   "source": [
    "#### dtc"
   ]
  },
  {
   "cell_type": "code",
   "execution_count": 27,
   "metadata": {},
   "outputs": [
    {
     "name": "stdout",
     "output_type": "stream",
     "text": [
      "{'Pos': 26581, 'Neg': 337419, 'TP': 23266, 'TN': 261447, 'FP': 75972, 'FN': 3315, 'Accuracy': 0.7821785714285714, 'Precision': 0.23444648219432074, 'Recall': 0.8752868590346488, 'desc': 'dtc'}\n"
     ]
    }
   ],
   "source": [
    "from sklearn import tree\n",
    "dtc = tree.DecisionTreeClassifier(criterion='entropy', splitter='best', max_depth=None, min_samples_split=2, min_samples_leaf=2, min_weight_fraction_leaf=0.0, max_features=None, random_state=None, max_leaf_nodes=None, min_impurity_decrease=0.0, min_impurity_split=None, class_weight='balanced', presort=False)\n",
    "dtc.fit(X, y)\n",
    "joblib.dump(dtc, 'dtc.pkl') # pickle\n",
    "\n",
    "dtc_performance = BinaryClassificationPerformance(dtc.predict(X), y, 'dtc')\n",
    "dtc_performance.compute_measures()\n",
    "print(dtc_performance.performance_measures)"
   ]
  },
  {
   "cell_type": "markdown",
   "metadata": {},
   "source": [
    "### Graph on each result"
   ]
  },
  {
   "cell_type": "code",
   "execution_count": 28,
   "metadata": {},
   "outputs": [],
   "source": [
    "import matplotlib.pyplot as plt\n",
    "from my_measures import BinaryClassificationPerformance\n",
    "%matplotlib inline"
   ]
  },
  {
   "cell_type": "code",
   "execution_count": 29,
   "metadata": {},
   "outputs": [
    {
     "data": {
      "image/png": "[encoded data removed]",
      "text/plain": [
       "<Figure size 432x288 with 1 Axes>"
      ]
     },
     "metadata": {
      "needs_background": "light"
     },
     "output_type": "display_data"
    }
   ],
   "source": [
    "fits = [ols_performance, nbs_performance, dtc_performance, rf_performance, rdg_performance,]\n",
    "\n",
    "for fit in fits:\n",
    "    plt.plot(fit.performance_measures['FP'] / fit.performance_measures['Neg'], \n",
    "             fit.performance_measures['TP'] / fit.performance_measures['Pos'], 'bo')\n",
    "    plt.text(fit.performance_measures['FP'] / fit.performance_measures['Neg'], \n",
    "             fit.performance_measures['TP'] / fit.performance_measures['Pos'], fit.desc)\n",
    "plt.axis([0, 1, 0, 1])\n",
    "plt.title('ROC plot: test set')\n",
    "plt.xlabel('False positive rate')\n",
    "plt.ylabel('True positive rate')\n",
    "plt.show()"
   ]
  },
  {
   "cell_type": "markdown",
   "metadata": {},
   "source": [
    "## Testing Set on best trained Model"
   ]
  },
  {
   "cell_type": "code",
   "execution_count": 30,
   "metadata": {},
   "outputs": [
    {
     "name": "stdout",
     "output_type": "stream",
     "text": [
      "(91000, 13)\n"
     ]
    }
   ],
   "source": [
    "amazonTest = pd.read_csv('/Users/xyche/Documents/Parsons_Grad/ML_Practice/AmazonReview/raw_data_test.csv')\n",
    "print(amazonTest.shape)"
   ]
  },
  {
   "cell_type": "markdown",
   "metadata": {},
   "source": [
    "### Feature Tansformation"
   ]
  },
  {
   "cell_type": "code",
   "execution_count": 31,
   "metadata": {},
   "outputs": [],
   "source": [
    "hv = joblib.load('hv.pkl')\n",
    "X_hv = hv.transform(amazonTest.Text)\n",
    "#print(X_cv.shape)"
   ]
  },
  {
   "cell_type": "code",
   "execution_count": 32,
   "metadata": {},
   "outputs": [],
   "source": [
    "transformer = joblib.load('transformer.pkl')\n",
    "X_tfidf = transformer.transform(X_hv)"
   ]
  },
  {
   "cell_type": "code",
   "execution_count": 36,
   "metadata": {},
   "outputs": [],
   "source": [
    "corpusSum = amazonTest.Summary.values.astype('U')\n",
    "hvsum = joblib.load('hvsum.pkl')\n",
    "X_hvsum = hvsum.transform(corpusSum)\n",
    "#print(X_cvsum.shape)"
   ]
  },
  {
   "cell_type": "code",
   "execution_count": 37,
   "metadata": {},
   "outputs": [],
   "source": [
    "transformer_sum = joblib.load('transformer_sum.pkl')\n",
    "X_tfidf_sum = transformer.transform(X_hvsum)"
   ]
  },
  {
   "cell_type": "code",
   "execution_count": 38,
   "metadata": {},
   "outputs": [],
   "source": [
    "amazonTest['reviewLen'] = amazonTest['Text'].str.len()\n",
    "amazonTest['sumLen'] = amazonTest['Summary'].str.len().replace(np.nan,0)\n",
    "\n",
    "\n",
    "X_length_features = amazonTest[[\"reviewLen\",\"sumLen\"]]"
   ]
  },
  {
   "cell_type": "code",
   "execution_count": 39,
   "metadata": {},
   "outputs": [
    {
     "name": "stdout",
     "output_type": "stream",
     "text": [
      "(91000, 68)\n"
     ]
    }
   ],
   "source": [
    "from scipy.sparse import csr_matrix, hstack\n",
    "X_combined = hstack([X_tfidf,X_tfidf_sum])\n",
    "X_matrix = csr_matrix(X_combined) # convert to sparse matrix\n",
    "print(X_matrix.shape)"
   ]
  },
  {
   "cell_type": "code",
   "execution_count": 40,
   "metadata": {},
   "outputs": [
    {
     "name": "stdout",
     "output_type": "stream",
     "text": [
      "(91000, 70)\n"
     ]
    }
   ],
   "source": [
    "from scipy.sparse import csr_matrix, hstack\n",
    "X_length_features_csr = csr_matrix(X_length_features)\n",
    "X_combined = hstack([X_matrix, X_length_features_csr])\n",
    "X_feature = csr_matrix(X_combined) \n",
    "print(X_feature.shape)"
   ]
  },
  {
   "cell_type": "code",
   "execution_count": 41,
   "metadata": {},
   "outputs": [
    {
     "name": "stdout",
     "output_type": "stream",
     "text": [
      "(91000, 70)\n"
     ]
    }
   ],
   "source": [
    "sc = joblib.load('sc.pkl')\n",
    "X = sc.transform(X_feature)\n",
    "print(X.shape)"
   ]
  },
  {
   "cell_type": "code",
   "execution_count": 42,
   "metadata": {},
   "outputs": [
    {
     "name": "stdout",
     "output_type": "stream",
     "text": [
      "<class 'numpy.ndarray'>\n"
     ]
    }
   ],
   "source": [
    "y = amazonTest['helpful'].values\n",
    "print(type(y))"
   ]
  },
  {
   "cell_type": "markdown",
   "metadata": {},
   "source": [
    "### Test on the best model dtc"
   ]
  },
  {
   "cell_type": "code",
   "execution_count": 44,
   "metadata": {},
   "outputs": [],
   "source": [
    "from my_measures import BinaryClassificationPerformance"
   ]
  },
  {
   "cell_type": "code",
   "execution_count": 45,
   "metadata": {},
   "outputs": [
    {
     "name": "stdout",
     "output_type": "stream",
     "text": [
      "{'Pos': 6654, 'Neg': 84346, 'TP': 3284, 'TN': 63319, 'FP': 21027, 'FN': 3370, 'Accuracy': 0.7319010989010989, 'Precision': 0.13508288429106166, 'Recall': 0.4935377216711752, 'desc': 'dtc'}\n"
     ]
    }
   ],
   "source": [
    "dtc = joblib.load('dtc.pkl')\n",
    "\n",
    "dtc_performance = BinaryClassificationPerformance(dtc.predict(X), y, 'dtc')\n",
    "dtc_performance.compute_measures()\n",
    "print(dtc_performance.performance_measures)"
   ]
  },
  {
   "cell_type": "markdown",
   "metadata": {},
   "source": [
    "### Graph Performance"
   ]
  },
  {
   "cell_type": "code",
   "execution_count": 46,
   "metadata": {
    "scrolled": true
   },
   "outputs": [
    {
     "data": {
      "image/png": "[encoded data removed]",
      "text/plain": [
       "<Figure size 432x288 with 1 Axes>"
      ]
     },
     "metadata": {
      "needs_background": "light"
     },
     "output_type": "display_data"
    }
   ],
   "source": [
    "fits = [dtc_performance]\n",
    "\n",
    "for fit in fits:\n",
    "    plt.plot(fit.performance_measures['FP'] / fit.performance_measures['Neg'], \n",
    "             fit.performance_measures['TP'] / fit.performance_measures['Pos'], 'bo')\n",
    "    plt.text(fit.performance_measures['FP'] / fit.performance_measures['Neg'], \n",
    "             fit.performance_measures['TP'] / fit.performance_measures['Pos'], fit.desc)\n",
    "plt.axis([0, 1, 0, 1])\n",
    "plt.title('ROC plot: test set')\n",
    "plt.xlabel('False positive rate')\n",
    "plt.ylabel('True positive rate')\n",
    "plt.show()"
   ]
  },
  {
   "cell_type": "markdown",
   "metadata": {},
   "source": [
    "## Samples on the Results"
   ]
  },
  {
   "cell_type": "code",
   "execution_count": 53,
   "metadata": {},
   "outputs": [],
   "source": [
    "dtc_predictions = dtc.predict(X)"
   ]
  },
  {
   "cell_type": "markdown",
   "metadata": {},
   "source": [
    "### True Positive - Model says helpful so did the reviewers"
   ]
  },
  {
   "cell_type": "code",
   "execution_count": 116,
   "metadata": {},
   "outputs": [
    {
     "name": "stdout",
     "output_type": "stream",
     "text": [
      "590\n",
      "2010-11-27 00:00:00\n",
      "I loved the flowers, HOWEVER, there was an error in the order and I was unable to reach any live person to correct it, even though I wrote an email and left several voice mails an hour after the order was placed. I am still waiting for a refund for the order placed in error, and will soon have to battle for it I guess. I have used this company in the past and like their product, but not being able to contact anyone to change the order was most unsatisfying. If I do not get the promised refund I will not use this vendor again.\n",
      "* * * * * * * * * \n",
      "974\n",
      "2009-10-17 00:00:00\n",
      "My cat has developed an increased appetite since I changed her diet from ONLY dry food to moist food.  She is 17 years old and has lost so many teeth that dry food was becoming too difficult for her to eat.  After two years of serving her \"wet food\" I never made a distinction among the different brands of wet food until recently.  I always buy different brands of wet food, and she seems to enjoy the ones from a packet rather than a can.  However today, with WHISKAS, after devouring a whole packet,  she wanted another one.  Not only that, but she licked the plate entirely clean.  She kept begging for more and I finally gave in to her wishes. I was very surprised when I just went to look at her plate because she consumed an entire second package.  I better check this out with her vet.  She is not overweight, but I don't want to overfeed her.\n",
      "* * * * * * * * * \n",
      "1193\n",
      "2010-08-19 00:00:00\n",
      "For years I have loved the \"Reeses Pieces sundae\" that is served at the Friendly's restaurants. However, the price of that sundae has risen sharply through the years. I've always wanted to make this sundae at home, but finding the peanut butter topping that Friendly's used has been the issue. I finally located this peanut butter sauce which is excellent. I am on my third jar of the sauce, and actually purchased two jars this time. Just remember to thoroughly stir the sauce before using, as the oil migrates to the top of the jar and the sauce thickens on the bottom. And enjoy!!!\n",
      "* * * * * * * * * \n",
      "1804\n",
      "2010-12-16 00:00:00\n",
      "This is not your typical dry dog food, where meat is ground up with all kind of fillers. It is air dried and just look at the ingredients:<br /><br />Venison - Meat (min. 50%), Liver, Tripe, Heart and Kidney (min. 19.5%), Fish (min. 15%), Chicory Inulin, Green-lipped Mussel (min. 4%), Fish Oil, Lecithin, Kelp, Vitamins and Minerals, Parsley, Naturally preserved with mixed tocopherols, Additives: Vit. D3 592 IU/kg, Vit. E 7.4mg/kg, Copper (copper proteinate) 9.8mg/kg. Calories 1778 KJ/100g.<br /><br />The food gets 5 stars from the Dog Food Advisor and contains all the essential vitamins and minerals for your dog.\n",
      "* * * * * * * * * \n"
     ]
    }
   ],
   "source": [
    "#True Positive\n",
    "import random, time\n",
    "\n",
    "for i in range(0, len(dtc_predictions)-89000):\n",
    "    if (dtc_predictions[i] == True):\n",
    "        if (amazonTest.loc[i, \"helpful\"] == True):\n",
    "            if (random.uniform(0, 1) < 0.05):\n",
    "                print(i)\n",
    "                print(time.strftime('%Y-%m-%d %H:%M:%S', time.gmtime(amazonTest.loc[i, \"Time\"])))\n",
    "                print(amazonTest.loc[i, \"Text\"])\n",
    "                print('* * * * * * * * * ')"
   ]
  },
  {
   "cell_type": "markdown",
   "metadata": {},
   "source": [
    "### True Negative - Model says not helpful so did the reviewers"
   ]
  },
  {
   "cell_type": "code",
   "execution_count": 112,
   "metadata": {},
   "outputs": [
    {
     "name": "stdout",
     "output_type": "stream",
     "text": [
      "12\n",
      "2011-08-23 00:00:00\n",
      "i put this on my dog's leash since many times i would forget the plastic bag until i was already outside.  it really comes in handy.  i especially like the fact that right before each perforation there is a white stripe so that you know where to tear.  it comes in handy at night.  they are also very dark, so you can't see the contents.\n",
      "* * * * * * * * * \n",
      "56\n",
      "2007-05-27 00:00:00\n",
      "I have looked for a good peppermint candy to carry in my backpack or Camelback when out hiking and the blood sugar begins to drop.  This find has been a real treasure.\n",
      "* * * * * * * * * \n",
      "68\n",
      "2011-05-11 00:00:00\n",
      "This is the most delicious soy sauce I have ever tasted.  I will surely order it again.  Such deep flavor.\n",
      "* * * * * * * * * \n",
      "77\n",
      "2010-02-06 00:00:00\n",
      "It's difficult to get enough cereals in a gluten-free diet.  Nature's Path Organic Mesa Sunrise Cereal is the answer to that problem.  I first discovered it in the special foods section of a local supermarket, but it's so popular they can't always keep it stocked.  It's made from flax, amaranth and corn.  It contains heart-healthy Omega 3.  It provides fiber.  It keeps well.  It tastes so great I have no desire to mask it's excellent natural flavor with added sugar.  Mesa Sunrise is my favorite cereal.  I like it so well I order it from Amazon in bulk.  Do try it.  If you like cold cereals, you'll love Mesa Sunrise.\n",
      "* * * * * * * * * \n",
      "118\n",
      "2011-01-08 00:00:00\n",
      "Have had this coffee in both regular & decaff, my husband & I like the taste of it very much. Will be buying more.\n",
      "* * * * * * * * * \n",
      "188\n",
      "2011-06-04 00:00:00\n",
      "I am not rating this food with three stars because I dispute the quality of ingredients, or that it's one of the healthiest commercial dog food available on the market. Wellness is an excellent brand, more importantly, one whose quality control I trust. My dogs are doing fairly well on it, too, however, the reason I cannot give the Super 5 Mix a five star review is for the unusually low levels of protein and fat, which are not suitable for my highly active Beagles.<br /><br />My dogs spend as much time outdoors as they do snoring on the couch (which is a lot), and unfortunately, the 22/12 ratio of fat:protein does not cut it for them. By most standards 22% is a very low amount for even a maintenance diet, and despite the inclusion of whole grains, fruits, and veggies, I've found that I need to add oils and meat on a daily basis because their coats have been thinning out/shedding more than usual and their muscle mass has definitely decreased in the several weeks I've been feeding it. I'm very disappointed because it's only the middle of summer, when they normally maintain their coat very well and are less active than in the cooler months. Energy levels are also not very good... I am seeing spikes and crashes which is usually indicative of a high carbohydrate feed, so alas, will have to find another, more meat based diet for my pack. Although I would still recommend this for less active dogs - it's just not right for mine.\n",
      "* * * * * * * * * \n"
     ]
    }
   ],
   "source": [
    "#True Negative\n",
    "import random, time\n",
    "\n",
    "for i in range(0, len(dtc_predictions)-90800):\n",
    "    if (dtc_predictions[i] == False):\n",
    "        if (amazonTest.loc[i, \"helpful\"] == False):\n",
    "            if (random.uniform(0, 1) < 0.05):\n",
    "                print(i)\n",
    "                print(time.strftime('%Y-%m-%d %H:%M:%S', time.gmtime(amazonTest.loc[i, \"Time\"])))\n",
    "                print(amazonTest.loc[i, \"Text\"])\n",
    "                print('* * * * * * * * * ')"
   ]
  },
  {
   "cell_type": "markdown",
   "metadata": {},
   "source": [
    "### False Positive - Model says helpful but not marked as helpful by reviewers"
   ]
  },
  {
   "cell_type": "code",
   "execution_count": 126,
   "metadata": {},
   "outputs": [
    {
     "name": "stdout",
     "output_type": "stream",
     "text": [
      "43\n",
      "2008-05-18 00:00:00\n",
      "I usually get these for my 29 month old son at the local store for 35 cents each and he LOVES them.  When he expressed an interest in them, it was expensive to keep buying them at the store, I found them on Amazon for a fraction of the cost.  The price is really great for a organic product  and I feel good giving my son these pops knowing that they are 100% natural, made with only real fruit extracts with no chemical dyes and no corn syrup.  They are packed with favor, my son takes a few licks and gives them back to me which I save for later.  The container is super convenient, once the pops run out I'll just buy the bulk pack.  There were very few broken pops, the broken ones I put in my purse and use them as cough drops.  I highly recommend them.\n",
      "* * * * * * * * * \n",
      "104\n",
      "2009-05-04 00:00:00\n",
      "My dogs love eating Pup-Peroni as their daily treats.  Each individual pouches are great size if you plan to take doggie snacks when you are out at an event or taking them to a dog park or somewhere outside their home.  It was great to have small portions packed in these pouches therefore keeping the snacks fresh.\n",
      "* * * * * * * * * \n",
      "134\n",
      "2011-04-14 00:00:00\n",
      "I have a Pasadena popcorn machine from The Great Northern Popcorn company, so I though I'd try their pre-measured popcorn packets. Previously, I have used Vogel's pre-measured packs and compared to Vogels, this stuff is a bit saltier. It's very good, but Vogels is identical to movie theater popcorn in flavor; sweet, buttery, and more of the true corn taste then this.<br /><br />You can always reduce the amount of butter salt, or not add any at all from the packet. For my comparison, I used the entire packet contents which to me, produced popcorn with a bit to much saltiness.<br /><br />If you find this popcorn to be to salty, try Vogel's pre-measured packets.\n",
      "* * * * * * * * * \n",
      "251\n",
      "2011-12-16 00:00:00\n",
      "Bought these as a wedding favor for my wedding, and they were great. Ordered a few boxes and they were fresh and came fast! Thanks Jelly Belly!\n",
      "* * * * * * * * * \n",
      "402\n",
      "2012-02-23 00:00:00\n",
      "I like these tasty clusters.  They're quick and easy.  I like to eat them out of the bag, though somebody wanting a \"cereal\" could put them in a bowl with milk.  I also like that a serving (1/3 cup) has 3g fiber.<br /><br />I marked these down a star because my husband thinks they taste too chocolatey.  However, I think these clusters have the perfect amount of cocoa.\n",
      "* * * * * * * * * \n"
     ]
    }
   ],
   "source": [
    "#False Positive\n",
    "import random, time\n",
    "\n",
    "for i in range(0, len(dtc_predictions)-90430):\n",
    "    if (dtc_predictions[i] == True):\n",
    "        if (amazonTest.loc[i, \"helpful\"] == False):\n",
    "            if (random.uniform(0, 1) < 0.05):\n",
    "                print(i)\n",
    "                print(time.strftime('%Y-%m-%d %H:%M:%S', time.gmtime(amazonTest.loc[i, \"Time\"])))\n",
    "                print(amazonTest.loc[i, \"Text\"])\n",
    "                print('* * * * * * * * * ')"
   ]
  },
  {
   "cell_type": "markdown",
   "metadata": {},
   "source": [
    "### False Negative - Model says not helps but marked as helpful by reviewers"
   ]
  },
  {
   "cell_type": "code",
   "execution_count": 130,
   "metadata": {},
   "outputs": [
    {
     "name": "stdout",
     "output_type": "stream",
     "text": [
      "1025\n",
      "2008-05-19 00:00:00\n",
      "Like many people who have heard about the benefits of fish oil, I tried taking Omega-3 fish oil capsules. All was fine and dandy except that the fish oil capsules make me feel nauseous, and despite trying everything, I ended up belching up the disgusting taste of tuna ALL DAY LONG no matter how much food I ate, what type of food. The regular capsules were disgusting.<br />My stomach is sensitive to vitamins, so I have been taking the regular gummy vitamins, along with an iron supplement.<br />Seeing that this brand has worked so well for me in the past, I decided to purchase these gummy fish [...].<br /><br />Yes, they do smell and taste faintly of fish. But hello people! It's FISH oil. Of course it's going to smell and taste that way! If you're like me and find the \"grown up\" version of these to be absolutely stomach churning, then the gummi version will be a welcome addition to your vitamins collection.<br /><br />They are fruit flavored, and the fruit taste is what lingers around, not the fish one. Yes, it's weird to have fruit and fish together. But these do not upset my stomach, or leave me tasting fish all day long. So it's worth it.\n",
      "* * * * * * * * * \n",
      "1054\n",
      "2011-04-03 00:00:00\n",
      "I have five dogs and have been feeding both the medium and large sizes of this product for several months.  I have no doubt that it cleans their teeth.  However, I have two problems with this product.  One is with the sizing.  In the large size, there are always plenty of chews that should be considered medium.  Since I pay extra for the large size, I expect that they should all be large.  Also, there are often ones included that are way too thick, and can't be chewed in a reasonable time.<br />The other problem is with my old black lab mix, Fargo.  He chews for awhile and then proceeds to swallow the whole thing.  Invariably, it gets caught in his throat and I have to fish it out.  He resents this as he believes I am trying to steal it.  I have discontinued using these and am looking for another product that works equally well but is less apt to be swallowed whole.\n",
      "* * * * * * * * * \n",
      "1436\n",
      "2009-01-06 00:00:00\n",
      "This is the best quality and best-tasting organically grown green tea, as recommended by Raymond Francis on his website www.beyondhealth.com.  I drink several cups a day, and it seems to curb my appetite, aids in digestion and gives me more energy.  It is high in antioxidants.  This tea is an important part of my health regimen.  I just love it!\n",
      "* * * * * * * * * \n"
     ]
    }
   ],
   "source": [
    "#False Negative\n",
    "import random, time\n",
    "\n",
    "for i in range(0, len(dtc_predictions)-89000):\n",
    "    if (dtc_predictions[i] == False):\n",
    "        if (amazonTest.loc[i, \"helpful\"] == True):\n",
    "            if (random.uniform(0, 1) < 0.05):\n",
    "                print(i)\n",
    "                print(time.strftime('%Y-%m-%d %H:%M:%S', time.gmtime(amazonTest.loc[i, \"Time\"])))\n",
    "                print(amazonTest.loc[i, \"Text\"])\n",
    "                print('* * * * * * * * * ')"
   ]
  },
  {
   "cell_type": "code",
   "execution_count": null,
   "metadata": {},
   "outputs": [],
   "source": []
  }
 ],
 "metadata": {
  "kernelspec": {
   "display_name": "Python 3",
   "language": "python",
   "name": "python3"
  },
  "language_info": {
   "codemirror_mode": {
    "name": "ipython",
    "version": 3
   },
   "file_extension": ".py",
   "mimetype": "text/x-python",
   "name": "python",
   "nbconvert_exporter": "python",
   "pygments_lexer": "ipython3",
   "version": "3.7.1"
  }
 },
 "nbformat": 4,
 "nbformat_minor": 2
}
